{
 "cells": [
  {
   "cell_type": "code",
   "execution_count": 8,
   "metadata": {},
   "outputs": [
    {
     "name": "stdout",
     "output_type": "stream",
     "text": [
      "Collecting tiktoken\n",
      "  Downloading tiktoken-0.4.0-cp310-cp310-macosx_11_0_arm64.whl (761 kB)\n",
      "\u001b[2K     \u001b[90m━━━━━━━━━━━━━━━━━━━━━━━━━━━━━━━━━━━━━━━\u001b[0m \u001b[32m761.4/761.4 KB\u001b[0m \u001b[31m7.9 MB/s\u001b[0m eta \u001b[36m0:00:00\u001b[0ma \u001b[36m0:00:01\u001b[0m\n",
      "\u001b[?25hRequirement already satisfied: requests>=2.26.0 in /Library/Frameworks/Python.framework/Versions/3.10/lib/python3.10/site-packages (from tiktoken) (2.28.2)\n",
      "Requirement already satisfied: regex>=2022.1.18 in /Library/Frameworks/Python.framework/Versions/3.10/lib/python3.10/site-packages (from tiktoken) (2022.10.31)\n",
      "Requirement already satisfied: idna<4,>=2.5 in /Library/Frameworks/Python.framework/Versions/3.10/lib/python3.10/site-packages (from requests>=2.26.0->tiktoken) (3.4)\n",
      "Requirement already satisfied: certifi>=2017.4.17 in /Library/Frameworks/Python.framework/Versions/3.10/lib/python3.10/site-packages (from requests>=2.26.0->tiktoken) (2022.12.7)\n",
      "Requirement already satisfied: urllib3<1.27,>=1.21.1 in /Library/Frameworks/Python.framework/Versions/3.10/lib/python3.10/site-packages (from requests>=2.26.0->tiktoken) (1.26.15)\n",
      "Requirement already satisfied: charset-normalizer<4,>=2 in /Library/Frameworks/Python.framework/Versions/3.10/lib/python3.10/site-packages (from requests>=2.26.0->tiktoken) (3.1.0)\n",
      "Installing collected packages: tiktoken\n",
      "Successfully installed tiktoken-0.4.0\n",
      "\u001b[33mWARNING: You are using pip version 22.0.4; however, version 23.2.1 is available.\n",
      "You should consider upgrading via the '/Library/Frameworks/Python.framework/Versions/3.10/bin/python3.10 -m pip install --upgrade pip' command.\u001b[0m\u001b[33m\n",
      "\u001b[0m"
     ]
    }
   ],
   "source": [
    "# !pip3 install --upgrade langchain \n",
    "# !pip3 install pypdf\n",
    "# !pip3 install chromadb\n",
    "# !pip3 install tiktoken"
   ]
  },
  {
   "cell_type": "code",
   "execution_count": 12,
   "metadata": {},
   "outputs": [],
   "source": [
    "import os\n",
    "import getpass\n",
    "\n",
    "os.environ['OPENAI_API_KEY'] = getpass.getpass('OpenAI API Key:')"
   ]
  },
  {
   "cell_type": "code",
   "execution_count": 3,
   "metadata": {},
   "outputs": [],
   "source": [
    "import PyPDF2\n",
    "from collections import namedtuple\n",
    "\n",
    "Document = namedtuple('Document', ['page_content', 'metadata'])\n",
    "\n",
    "def extract_pdf_data(pdf_path):\n",
    "    # Open the PDF file\n",
    "    with open(pdf_path, 'rb') as file:\n",
    "        # Create a PDF reader\n",
    "        reader = PyPDF2.PdfReader(file)\n",
    "        \n",
    "        # Extract text from each page\n",
    "        pages = []\n",
    "        for page_num in range(len(reader.pages)):\n",
    "            page = reader.pages[page_num]\n",
    "            text = page.extract_text()\n",
    "            metadata = {\n",
    "                'source': pdf_path,\n",
    "                'page': page_num\n",
    "            }\n",
    "            pages.append(Document(page_content=text, metadata=metadata))\n",
    "            \n",
    "    return pages\n",
    "\n"
   ]
  },
  {
   "cell_type": "code",
   "execution_count": 4,
   "metadata": {},
   "outputs": [],
   "source": [
    "\n",
    "# Usage:\n",
    "pdf_path = \"./data/ato-income-deductions.pdf\"\n",
    "pages = extract_pdf_data(pdf_path)\n"
   ]
  },
  {
   "cell_type": "code",
   "execution_count": 5,
   "metadata": {},
   "outputs": [],
   "source": [
    "from langchain.text_splitter import RecursiveCharacterTextSplitter\n",
    "\n",
    "text_splitter = RecursiveCharacterTextSplitter(chunk_size = 1000, chunk_overlap = 0)\n",
    "all_splits = text_splitter.split_documents(pages)"
   ]
  },
  {
   "cell_type": "code",
   "execution_count": 13,
   "metadata": {},
   "outputs": [],
   "source": [
    "from langchain.text_splitter import CharacterTextSplitter\n",
    "from langchain.vectorstores import FAISS\n",
    "from langchain.embeddings import OpenAIEmbeddings\n",
    "from langchain.agents.agent_toolkits import create_retriever_tool\n",
    "from langchain.agents.agent_toolkits import create_conversational_retrieval_agent\n",
    "from langchain.chat_models import ChatOpenAI\n",
    "\n"
   ]
  },
  {
   "cell_type": "code",
   "execution_count": 14,
   "metadata": {},
   "outputs": [],
   "source": [
    "embeddings = OpenAIEmbeddings()\n",
    "db = FAISS.from_documents(all_splits, embeddings)\n",
    "\n",
    "retriever = db.as_retriever()\n",
    "\n",
    "tool = create_retriever_tool(\n",
    "    retriever, \n",
    "    \"search_tax_deductions_policy\",\n",
    "    \"Searches and returns documents regarding the tax_deductions_policy.\"\n",
    ")\n",
    "tools = [tool]\n",
    "\n",
    "llm = ChatOpenAI(temperature = 0)\n",
    "\n",
    "agent_executor = create_conversational_retrieval_agent(llm, tools, verbose=True)\n"
   ]
  },
  {
   "cell_type": "code",
   "execution_count": 25,
   "metadata": {},
   "outputs": [
    {
     "name": "stdout",
     "output_type": "stream",
     "text": [
      "\n",
      "\n",
      "\u001b[1m> Entering new AgentExecutor chain...\u001b[0m\n",
      "\u001b[32;1m\u001b[1;3mHello Jeff! How can I assist you today?\u001b[0m\n",
      "\n",
      "\u001b[1m> Finished chain.\u001b[0m\n"
     ]
    }
   ],
   "source": [
    "result = agent_executor({\"input\": \"hi, im jeff\"})"
   ]
  },
  {
   "cell_type": "code",
   "execution_count": 26,
   "metadata": {},
   "outputs": [
    {
     "name": "stdout",
     "output_type": "stream",
     "text": [
      "\n",
      "\n",
      "\u001b[1m> Entering new AgentExecutor chain...\u001b[0m\n",
      "\u001b[32;1m\u001b[1;3mAs a consultant, there are several deductions you may consider when filing your taxes. Here are some potential deductions to consider:\n",
      "\n",
      "1. Home Office Expenses: If you have a dedicated space in your home that you use exclusively for your consulting work, you may be eligible to claim deductions for home office expenses. This can include a portion of your rent or mortgage, utilities, internet, and office supplies.\n",
      "\n",
      "2. Business-related Travel Expenses: If you incur travel expenses for business purposes, such as attending client meetings or conferences, you may be able to deduct these expenses. This includes transportation costs, accommodation, meals, and other related expenses.\n",
      "\n",
      "3. Professional Development and Training: If you invest in professional development courses, workshops, or training programs to enhance your skills and knowledge as a consultant, you may be able to deduct these expenses.\n",
      "\n",
      "4. Business-related Subscriptions and Memberships: If you subscribe to industry publications, professional memberships, or other relevant subscriptions that are necessary for your consulting work, you may be able to claim deductions for these expenses.\n",
      "\n",
      "5. Office Supplies and Equipment: You can deduct the cost of office supplies, such as stationery, printer ink, and computer software, as well as the depreciation or lease expenses for business equipment, such as laptops or printers.\n",
      "\n",
      "6. Marketing and Advertising Expenses: If you incur expenses for marketing and advertising your consulting services, such as website development, online advertising, or business cards, you may be able to deduct these costs.\n",
      "\n",
      "7. Professional Fees: If you hire professionals, such as accountants or lawyers, for consulting-related services, you can deduct their fees as business expenses.\n",
      "\n",
      "8. Business Insurance: If you have insurance coverage for your consulting business, such as professional liability insurance, you may be able to deduct the premiums paid.\n",
      "\n",
      "9. Business-related Meals and Entertainment: If you have business-related meals or entertainment expenses, such as taking clients out for lunch or dinner, you may be able to deduct a portion of these expenses.\n",
      "\n",
      "It is important to note that the specific deductions you can claim may vary depending on your country's tax laws and regulations. It is recommended to consult with a tax professional or refer to the official tax guidelines in your country for accurate and up-to-date information regarding deductions for consultants.\u001b[0m\n",
      "\n",
      "\u001b[1m> Finished chain.\u001b[0m\n"
     ]
    }
   ],
   "source": [
    "result = agent_executor({\"input\": \"What are things to consider deducting if I work as a consultant?\"})"
   ]
  },
  {
   "cell_type": "code",
   "execution_count": null,
   "metadata": {},
   "outputs": [],
   "source": []
  }
 ],
 "metadata": {
  "kernelspec": {
   "display_name": "Python 3.10.5 64-bit",
   "language": "python",
   "name": "python3"
  },
  "language_info": {
   "codemirror_mode": {
    "name": "ipython",
    "version": 3
   },
   "file_extension": ".py",
   "mimetype": "text/x-python",
   "name": "python",
   "nbconvert_exporter": "python",
   "pygments_lexer": "ipython3",
   "version": "3.10.5"
  },
  "orig_nbformat": 4,
  "vscode": {
   "interpreter": {
    "hash": "aee8b7b246df8f9039afb4144a1f6fd8d2ca17a180786b69acc140d282b71a49"
   }
  }
 },
 "nbformat": 4,
 "nbformat_minor": 2
}
